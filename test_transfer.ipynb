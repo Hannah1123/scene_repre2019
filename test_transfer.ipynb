{
 "metadata": {
  "language_info": {
   "codemirror_mode": {
    "name": "ipython",
    "version": 3
   },
   "file_extension": ".py",
   "mimetype": "text/x-python",
   "name": "python",
   "nbconvert_exporter": "python",
   "pygments_lexer": "ipython3",
   "version": "3.6.10-final"
  },
  "orig_nbformat": 2,
  "kernelspec": {
   "name": "python3",
   "display_name": "Python 3.6.10 64-bit ('pytorch': conda)",
   "metadata": {
    "interpreter": {
     "hash": "c049fbe6fd9e585f4bc0fa32eb4f4ecb4c54177d2a14c4a274269393dfb5a8a5"
    }
   }
  }
 },
 "nbformat": 4,
 "nbformat_minor": 2,
 "cells": [
  {
   "cell_type": "code",
   "execution_count": 1,
   "metadata": {},
   "outputs": [],
   "source": [
    "import torch\n",
    "from torch.utils.data import DataLoader\n",
    "from mymodel import *"
   ]
  },
  {
   "cell_type": "code",
   "execution_count": null,
   "metadata": {},
   "outputs": [],
   "source": [
    "dset_trn = SceneInstanceDataset(\n",
    "    instance_dir='C:/Users/Hanna/Desktop/geom_survey/cars_train/1ba30d64da90ea05283ffcfc40c29975/',\n",
    "    instance_idx=0,\n",
    "    specific_observation_idcs=None,\n",
    "    img_sidelength=64,\n",
    "    num_images=-1)\n",
    "\n",
    "data_loader = DataLoader(dset_trn, batch_size=2)\n",
    "\n",
    "my_model = MySRN()\n",
    "my_model.train()\n",
    "my_model.to(device)\n",
    "\n",
    "dset_val = SceneInstanceDataset(\n",
    "    instance_dir='C:/Users/Hanna/Desktop/geom_survey/cars_train/1ba30d64da90ea05283ffcfc40c29975/',\n",
    "    instance_idx=0,\n",
    "    specific_observation_idcs=None,\n",
    "    img_sidelength=64,\n",
    "    num_images=1)\n",
    "val_data_loader = DataLoader(dset_val, batch_size=2)\n"
   ]
  },
  {
   "cell_type": "code",
   "execution_count": null,
   "metadata": {},
   "outputs": [],
   "source": [
    "my_model.train()\n",
    "my_model.to(device)"
   ]
  }
 ]
}